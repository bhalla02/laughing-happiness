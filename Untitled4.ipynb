{
 "cells": [
  {
   "cell_type": "markdown",
   "id": "65cbd77d-ba33-45e5-94dc-2690115001de",
   "metadata": {},
   "source": [
    "Q1\n",
    "The Pearson correlation coefficient measures the linear relationship between two variables.\n",
    "If the correlation coefficient is close to 1, it indicates a strong positive linear relationship, meaning as study time increases, exam scores also tend to increase.\n",
    "If it's close to -1, it indicates a strong negative linear relationship, implying as study time increases, exam scores tend to decrease.\n",
    "If it's close to 0, it suggests no linear relationship between the variables.\n",
    "Interpretation: A Pearson correlation coefficient of, say, 0.7 would suggest a strong positive linear relationship between study time and exam scores, indicating that students who spend more time studying tend to achieve higher exam scores."
   ]
  },
  {
   "cell_type": "markdown",
   "id": "9553ba8c-1f14-4cfc-974e-76d3bbbffb7e",
   "metadata": {},
   "source": [
    "Q2\n",
    "Spearman's rank correlation assesses the monotonic relationship between two variables, which means it looks at whether the variables tend to change together in the same direction (positive monotonic) or in opposite directions (negative monotonic), without assuming a linear relationship.\n",
    "Interpretation: A Spearman's rank correlation coefficient close to 1 would suggest a strong positive monotonic relationship, indicating that individuals who get more sleep tend to report higher job satisfaction levels. Conversely, a coefficient close to -1 would indicate a strong negative monotonic relationship, suggesting that individuals who get less sleep tend to report lower job satisfaction levels."
   ]
  },
  {
   "cell_type": "markdown",
   "id": "c6edd69c-cb08-4299-a3bb-6cd1a2e62099",
   "metadata": {},
   "source": [
    "Q3\n",
    "Pearson correlation coefficient is suitable for assessing linear relationships, while Spearman's rank correlation is appropriate for assessing monotonic relationships.\n",
    "If the relationship between exercise hours and BMI is strictly linear, the Pearson correlation coefficient would be more appropriate.\n",
    "If the relationship is non-linear or the data are not normally distributed, Spearman's rank correlation would be more suitable.\n",
    "By comparing both coefficients, you can understand if the relationship is more linear or monotonic."
   ]
  },
  {
   "cell_type": "markdown",
   "id": "369a9184-9361-4b9a-ae0c-b3c014c88906",
   "metadata": {},
   "source": [
    "Q4\n",
    "The Pearson correlation coefficient would indicate the strength and direction of the linear relationship between the number of hours spent watching TV and the level of physical activity.\n",
    "A coefficient close to -1 suggests a strong negative linear relationship, indicating that individuals who spend more time watching TV tend to have lower levels of physical activity, and vice versa."
   ]
  },
  {
   "cell_type": "markdown",
   "id": "2ae56fa2-8479-4780-ae70-b87c7e65b27c",
   "metadata": {},
   "source": [
    "Q5\n"
   ]
  }
 ],
 "metadata": {
  "kernelspec": {
   "display_name": "Python 3 (ipykernel)",
   "language": "python",
   "name": "python3"
  },
  "language_info": {
   "codemirror_mode": {
    "name": "ipython",
    "version": 3
   },
   "file_extension": ".py",
   "mimetype": "text/x-python",
   "name": "python",
   "nbconvert_exporter": "python",
   "pygments_lexer": "ipython3",
   "version": "3.10.8"
  }
 },
 "nbformat": 4,
 "nbformat_minor": 5
}
